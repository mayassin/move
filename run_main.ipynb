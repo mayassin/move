{
  "nbformat": 4,
  "nbformat_minor": 0,
  "metadata": {
    "colab": {
      "name": "Welcome To Colaboratory",
      "provenance": [],
      "collapsed_sections": [],
      "include_colab_link": true
    },
    "kernelspec": {
      "display_name": "Python 3",
      "name": "python3"
    }
  },
  "cells": [
    {
      "cell_type": "markdown",
      "metadata": {
        "id": "view-in-github",
        "colab_type": "text"
      },
      "source": [
        "<a href=\"https://colab.research.google.com/github/mayassin/move/blob/master/run_main.ipynb\" target=\"_parent\"><img src=\"https://colab.research.google.com/assets/colab-badge.svg\" alt=\"Open In Colab\"/></a>"
      ]
    },
    {
      "cell_type": "code",
      "metadata": {
        "colab": {
          "base_uri": "https://localhost:8080/"
        },
        "id": "JYPUc_hZL0b6",
        "outputId": "a8bef82c-0eef-46cc-8228-de01d6e745fa"
      },
      "source": [
        "from google.colab import drive\n",
        "drive.mount('/content/gdrive/')\n",
        "\n",
        "% ls"
      ],
      "execution_count": 3,
      "outputs": [
        {
          "output_type": "stream",
          "name": "stdout",
          "text": [
            "Mounted at /content/gdrive/\n",
            "gdrive\tsample_data\n"
          ]
        }
      ]
    },
    {
      "cell_type": "code",
      "metadata": {
        "colab": {
          "base_uri": "https://localhost:8080/"
        },
        "id": "VnwEhavekQRC",
        "outputId": "f0f57b12-4218-49ba-a2c2-194d64395b41"
      },
      "source": [
        "% cd gdrive/My Drive/Thesis/Audio/move\n",
        "\n",
        "% ls"
      ],
      "execution_count": 6,
      "outputs": [
        {
          "output_type": "stream",
          "name": "stdout",
          "text": [
            "/content/gdrive/My Drive/Thesis/Audio/move\n",
            "benchmark_da-tacos.py  move_evaluate.py  requirements_benchmark.txt\n",
            "\u001b[0m\u001b[01;34mdata\u001b[0m/                  move_losses.py    requirements.txt\n",
            "\u001b[01;34mdataset\u001b[0m/               move_main.py      run_model.ipynb\n",
            "LICENSE                move_train.py     \u001b[01;34msaved_models\u001b[0m/\n",
            "\u001b[01;34mmodels\u001b[0m/                README.md         \u001b[01;34mutils\u001b[0m/\n"
          ]
        }
      ]
    },
    {
      "cell_type": "code",
      "metadata": {
        "colab": {
          "base_uri": "https://localhost:8080/"
        },
        "id": "UVpjBH4lPpZF",
        "outputId": "f5591690-46fe-46a5-9717-bf125263b07f"
      },
      "source": [
        "! git pull"
      ],
      "execution_count": 7,
      "outputs": [
        {
          "output_type": "stream",
          "name": "stdout",
          "text": [
            "Already up to date.\n"
          ]
        }
      ]
    },
    {
      "cell_type": "code",
      "metadata": {
        "id": "3mpZnwcKkRCQ"
      },
      "source": [
        ""
      ],
      "execution_count": null,
      "outputs": []
    },
    {
      "cell_type": "code",
      "metadata": {
        "id": "AOZvpo0ylGhF"
      },
      "source": [
        ""
      ],
      "execution_count": null,
      "outputs": []
    }
  ]
}