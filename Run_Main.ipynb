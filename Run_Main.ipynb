{
  "nbformat": 4,
  "nbformat_minor": 0,
  "metadata": {
    "colab": {
      "name": "Run Main",
      "provenance": [],
      "collapsed_sections": [],
      "machine_shape": "hm",
      "include_colab_link": true
    },
    "kernelspec": {
      "display_name": "Python 3",
      "name": "python3"
    },
    "accelerator": "GPU"
  },
  "cells": [
    {
      "cell_type": "markdown",
      "metadata": {
        "id": "view-in-github",
        "colab_type": "text"
      },
      "source": [
        "<a href=\"https://colab.research.google.com/github/mayassin/move/blob/master/Run_Main.ipynb\" target=\"_parent\"><img src=\"https://colab.research.google.com/assets/colab-badge.svg\" alt=\"Open In Colab\"/></a>"
      ]
    },
    {
      "cell_type": "code",
      "metadata": {
        "colab": {
          "base_uri": "https://localhost:8080/"
        },
        "id": "JYPUc_hZL0b6",
        "outputId": "3d7c5eb2-7be8-4197-fd3d-64e10eeef1f9"
      },
      "source": [
        "from google.colab import drive\n",
        "drive.mount('/content/gdrive/')\n",
        "\n",
        "% ls"
      ],
      "execution_count": null,
      "outputs": [
        {
          "output_type": "stream",
          "name": "stdout",
          "text": [
            "Mounted at /content/gdrive/\n",
            "\u001b[0m\u001b[01;34mgdrive\u001b[0m/  \u001b[01;34msample_data\u001b[0m/\n"
          ]
        }
      ]
    },
    {
      "cell_type": "code",
      "metadata": {
        "id": "VnwEhavekQRC",
        "colab": {
          "base_uri": "https://localhost:8080/"
        },
        "outputId": "5ba9c01e-5902-4c91-fa09-d99f89e7ad1c"
      },
      "source": [
        "% cd gdrive/My Drive/Thesis/Audio/move\n",
        "\n",
        "% ls"
      ],
      "execution_count": null,
      "outputs": [
        {
          "output_type": "stream",
          "name": "stdout",
          "text": [
            "/content/gdrive/My Drive/Thesis/Audio/move\n",
            "benchmark_da-tacos.py  move_losses.py              requirements.txt\n",
            "\u001b[0m\u001b[01;34mdata\u001b[0m/                  move_main.py                run_main.ipynb\n",
            "\u001b[01;34mdataset\u001b[0m/               move_train.py               run_model.ipynb\n",
            "LICENSE                \u001b[01;34m__pycache__\u001b[0m/                \u001b[01;34msaved_models\u001b[0m/\n",
            "\u001b[01;34mmodels\u001b[0m/                README.md                   \u001b[01;34mutils\u001b[0m/\n",
            "move_evaluate.py       requirements_benchmark.txt\n"
          ]
        }
      ]
    },
    {
      "cell_type": "code",
      "metadata": {
        "id": "UVpjBH4lPpZF",
        "colab": {
          "base_uri": "https://localhost:8080/"
        },
        "outputId": "f0988cc2-5fbf-44b5-d782-6ba9858fff2b"
      },
      "source": [
        "! git pull"
      ],
      "execution_count": null,
      "outputs": [
        {
          "output_type": "stream",
          "name": "stdout",
          "text": [
            "Already up to date.\n"
          ]
        }
      ]
    },
    {
      "cell_type": "code",
      "metadata": {
        "id": "AOZvpo0ylGhF",
        "colab": {
          "base_uri": "https://localhost:8080/"
        },
        "outputId": "7e03da82-569b-4b9f-962b-875dcd56c725"
      },
      "source": [
        "! sudo pip install -r requirements_benchmark.txt"
      ],
      "execution_count": null,
      "outputs": [
        {
          "output_type": "stream",
          "name": "stdout",
          "text": [
            "Collecting torch==1.1.0\n",
            "  Downloading torch-1.1.0-cp37-cp37m-manylinux1_x86_64.whl (676.9 MB)\n",
            "\u001b[K     |████████████████████████████████| 676.9 MB 2.6 kB/s \n",
            "\u001b[?25hCollecting numpy==1.12.1\n",
            "  Downloading numpy-1.12.1.zip (4.8 MB)\n",
            "\u001b[K     |████████████████████████████████| 4.8 MB 52.5 MB/s \n",
            "\u001b[?25hCollecting scipy==0.19.0\n",
            "  Downloading scipy-0.19.0.zip (15.3 MB)\n",
            "\u001b[K     |████████████████████████████████| 15.3 MB 43 kB/s \n",
            "\u001b[?25hCollecting pandas==0.23.1\n",
            "  Downloading pandas-0.23.1.tar.gz (13.1 MB)\n",
            "\u001b[K     |████████████████████████████████| 13.1 MB 55.5 MB/s \n",
            "\u001b[?25hCollecting deepdish\n",
            "  Downloading deepdish-0.3.6-py2.py3-none-any.whl (36 kB)\n",
            "Requirement already satisfied: gdown in /usr/local/lib/python3.7/dist-packages (from -r requirements_benchmark.txt (line 6)) (3.6.4)\n",
            "Requirement already satisfied: python-dateutil>=2.5.0 in /usr/local/lib/python3.7/dist-packages (from pandas==0.23.1->-r requirements_benchmark.txt (line 4)) (2.8.2)\n",
            "Requirement already satisfied: pytz>=2011k in /usr/local/lib/python3.7/dist-packages (from pandas==0.23.1->-r requirements_benchmark.txt (line 4)) (2018.9)\n",
            "Requirement already satisfied: six>=1.5 in /usr/local/lib/python3.7/dist-packages (from python-dateutil>=2.5.0->pandas==0.23.1->-r requirements_benchmark.txt (line 4)) (1.15.0)\n",
            "Requirement already satisfied: tables in /usr/local/lib/python3.7/dist-packages (from deepdish->-r requirements_benchmark.txt (line 5)) (3.4.4)\n",
            "Requirement already satisfied: tqdm in /usr/local/lib/python3.7/dist-packages (from gdown->-r requirements_benchmark.txt (line 6)) (4.62.2)\n",
            "Requirement already satisfied: requests in /usr/local/lib/python3.7/dist-packages (from gdown->-r requirements_benchmark.txt (line 6)) (2.23.0)\n",
            "Requirement already satisfied: chardet<4,>=3.0.2 in /usr/local/lib/python3.7/dist-packages (from requests->gdown->-r requirements_benchmark.txt (line 6)) (3.0.4)\n",
            "Requirement already satisfied: certifi>=2017.4.17 in /usr/local/lib/python3.7/dist-packages (from requests->gdown->-r requirements_benchmark.txt (line 6)) (2021.5.30)\n",
            "Requirement already satisfied: urllib3!=1.25.0,!=1.25.1,<1.26,>=1.21.1 in /usr/local/lib/python3.7/dist-packages (from requests->gdown->-r requirements_benchmark.txt (line 6)) (1.24.3)\n",
            "Requirement already satisfied: idna<3,>=2.5 in /usr/local/lib/python3.7/dist-packages (from requests->gdown->-r requirements_benchmark.txt (line 6)) (2.10)\n",
            "Requirement already satisfied: numexpr>=2.5.2 in /usr/local/lib/python3.7/dist-packages (from tables->deepdish->-r requirements_benchmark.txt (line 5)) (2.7.3)\n",
            "Building wheels for collected packages: numpy, scipy, pandas\n",
            "  Building wheel for numpy (setup.py) ... \u001b[?25lerror\n",
            "\u001b[31m  ERROR: Failed building wheel for numpy\u001b[0m\n",
            "\u001b[?25h  Running setup.py clean for numpy\n",
            "\u001b[31m  ERROR: Failed cleaning build dir for numpy\u001b[0m\n",
            "  Building wheel for scipy (setup.py) ... \u001b[?25lerror\n",
            "\u001b[31m  ERROR: Failed building wheel for scipy\u001b[0m\n",
            "\u001b[?25h  Running setup.py clean for scipy\n",
            "\u001b[31m  ERROR: Failed cleaning build dir for scipy\u001b[0m\n",
            "  Building wheel for pandas (setup.py) ... \u001b[?25lerror\n",
            "\u001b[31m  ERROR: Failed building wheel for pandas\u001b[0m\n",
            "\u001b[?25h  Running setup.py clean for pandas\n",
            "Failed to build numpy scipy pandas\n",
            "Installing collected packages: numpy, scipy, torch, pandas, deepdish\n",
            "  Attempting uninstall: numpy\n",
            "    Found existing installation: numpy 1.19.5\n",
            "    Uninstalling numpy-1.19.5:\n",
            "      Successfully uninstalled numpy-1.19.5\n",
            "    Running setup.py install for numpy ... \u001b[?25l\u001b[?25herror\n",
            "  Rolling back uninstall of numpy\n",
            "  Moving to /usr/bin/f2py\n",
            "   from /tmp/pip-uninstall-e1ur9cnl/f2py\n",
            "  Moving to /usr/local/bin/f2py\n",
            "   from /tmp/pip-uninstall-6robnqo8/f2py\n",
            "  Moving to /usr/local/bin/f2py3\n",
            "   from /tmp/pip-uninstall-6robnqo8/f2py3\n",
            "  Moving to /usr/local/bin/f2py3.7\n",
            "   from /tmp/pip-uninstall-6robnqo8/f2py3.7\n",
            "  Moving to /usr/local/lib/python3.7/dist-packages/numpy-1.19.5.dist-info/\n",
            "   from /usr/local/lib/python3.7/dist-packages/~umpy-1.19.5.dist-info\n",
            "  Moving to /usr/local/lib/python3.7/dist-packages/numpy.libs/\n",
            "   from /usr/local/lib/python3.7/dist-packages/~umpy.libs\n",
            "  Moving to /usr/local/lib/python3.7/dist-packages/numpy/\n",
            "   from /usr/local/lib/python3.7/dist-packages/~umpy\n",
            "\u001b[31mERROR: Command errored out with exit status 1: /usr/bin/python3 -u -c 'import io, os, sys, setuptools, tokenize; sys.argv[0] = '\"'\"'/tmp/pip-install-1hfs_knj/numpy_f2b49f76dcf348d3b8bff13d4ed1d78e/setup.py'\"'\"'; __file__='\"'\"'/tmp/pip-install-1hfs_knj/numpy_f2b49f76dcf348d3b8bff13d4ed1d78e/setup.py'\"'\"';f = getattr(tokenize, '\"'\"'open'\"'\"', open)(__file__) if os.path.exists(__file__) else io.StringIO('\"'\"'from setuptools import setup; setup()'\"'\"');code = f.read().replace('\"'\"'\\r\\n'\"'\"', '\"'\"'\\n'\"'\"');f.close();exec(compile(code, __file__, '\"'\"'exec'\"'\"'))' install --record /tmp/pip-record-jf5qaloc/install-record.txt --single-version-externally-managed --compile --install-headers /usr/local/include/python3.7/numpy Check the logs for full command output.\u001b[0m\n"
          ]
        }
      ]
    },
    {
      "cell_type": "code",
      "metadata": {
        "colab": {
          "base_uri": "https://localhost:8080/"
        },
        "id": "uno-NA5a-XEc",
        "outputId": "918eab7d-22ca-4b97-9d6e-d2ce5f72e47e"
      },
      "source": [
        "! pip install deepdish"
      ],
      "execution_count": null,
      "outputs": [
        {
          "output_type": "stream",
          "name": "stdout",
          "text": [
            "Collecting deepdish\n",
            "  Using cached deepdish-0.3.6-py2.py3-none-any.whl (36 kB)\n",
            "Requirement already satisfied: numpy in /usr/local/lib/python3.7/dist-packages (from deepdish) (1.19.5)\n",
            "Requirement already satisfied: scipy in /usr/local/lib/python3.7/dist-packages (from deepdish) (1.4.1)\n",
            "Requirement already satisfied: tables in /usr/local/lib/python3.7/dist-packages (from deepdish) (3.4.4)\n",
            "Requirement already satisfied: six>=1.9.0 in /usr/local/lib/python3.7/dist-packages (from tables->deepdish) (1.15.0)\n",
            "Requirement already satisfied: numexpr>=2.5.2 in /usr/local/lib/python3.7/dist-packages (from tables->deepdish) (2.7.3)\n",
            "Installing collected packages: deepdish\n",
            "Successfully installed deepdish-0.3.6\n"
          ]
        }
      ]
    },
    {
      "cell_type": "code",
      "metadata": {
        "colab": {
          "base_uri": "https://localhost:8080/"
        },
        "id": "0IQ3b35z2ojw",
        "outputId": "3d250a78-479d-4632-fd19-31688b951bb0"
      },
      "source": [
        "gpu_info = !nvidia-smi\n",
        "gpu_info = '\\n'.join(gpu_info)\n",
        "if gpu_info.find('failed') >= 0:\n",
        "  print('Not connected to a GPU')\n",
        "else:\n",
        "  print(gpu_info)"
      ],
      "execution_count": null,
      "outputs": [
        {
          "output_type": "stream",
          "name": "stdout",
          "text": [
            "Sun Sep 19 19:24:11 2021       \n",
            "+-----------------------------------------------------------------------------+\n",
            "| NVIDIA-SMI 470.63.01    Driver Version: 460.32.03    CUDA Version: 11.2     |\n",
            "|-------------------------------+----------------------+----------------------+\n",
            "| GPU  Name        Persistence-M| Bus-Id        Disp.A | Volatile Uncorr. ECC |\n",
            "| Fan  Temp  Perf  Pwr:Usage/Cap|         Memory-Usage | GPU-Util  Compute M. |\n",
            "|                               |                      |               MIG M. |\n",
            "|===============================+======================+======================|\n",
            "|   0  Tesla T4            Off  | 00000000:00:04.0 Off |                    0 |\n",
            "| N/A   43C    P8    10W /  70W |      0MiB / 15109MiB |      0%      Default |\n",
            "|                               |                      |                  N/A |\n",
            "+-------------------------------+----------------------+----------------------+\n",
            "                                                                               \n",
            "+-----------------------------------------------------------------------------+\n",
            "| Processes:                                                                  |\n",
            "|  GPU   GI   CI        PID   Type   Process name                  GPU Memory |\n",
            "|        ID   ID                                                   Usage      |\n",
            "|=============================================================================|\n",
            "|  No running processes found                                                 |\n",
            "+-----------------------------------------------------------------------------+\n"
          ]
        }
      ]
    },
    {
      "cell_type": "code",
      "metadata": {
        "colab": {
          "base_uri": "https://localhost:8080/"
        },
        "id": "qIeP2ZQmzUoP",
        "outputId": "a2218ffe-76ba-4cf8-e12a-3955a36f78a8"
      },
      "source": [
        "from psutil import virtual_memory\n",
        "ram_gb = virtual_memory().total / 1e9\n",
        "print('Your runtime has {:.1f} gigabytes of available RAM\\n'.format(ram_gb))\n",
        "\n",
        "if ram_gb < 20:\n",
        "  print('Not using a high-RAM runtime')\n",
        "else:\n",
        "  print('You are using a high-RAM runtime!')"
      ],
      "execution_count": null,
      "outputs": [
        {
          "output_type": "stream",
          "name": "stdout",
          "text": [
            "Your runtime has 27.3 gigabytes of available RAM\n",
            "\n",
            "You are using a high-RAM runtime!\n"
          ]
        }
      ]
    },
    {
      "cell_type": "code",
      "metadata": {
        "colab": {
          "base_uri": "https://localhost:8080/"
        },
        "id": "LCotMebR2zHq",
        "outputId": "20f07658-6a6e-4b51-dbf1-d35c070c8d29"
      },
      "source": [
        "% ls"
      ],
      "execution_count": null,
      "outputs": [
        {
          "output_type": "stream",
          "name": "stdout",
          "text": [
            "benchmark_da-tacos.py  move_losses.py              requirements.txt\n",
            "\u001b[0m\u001b[01;34mdata\u001b[0m/                  move_main.py                run_main.ipynb\n",
            "\u001b[01;34mdataset\u001b[0m/               move_train.py               run_model.ipynb\n",
            "LICENSE                \u001b[01;34m__pycache__\u001b[0m/                \u001b[01;34msaved_models\u001b[0m/\n",
            "\u001b[01;34mmodels\u001b[0m/                README.md                   \u001b[01;34mutils\u001b[0m/\n",
            "move_evaluate.py       requirements_benchmark.txt\n"
          ]
        }
      ]
    },
    {
      "cell_type": "code",
      "metadata": {
        "colab": {
          "base_uri": "https://localhost:8080/"
        },
        "id": "60BjJm186mZc",
        "outputId": "d623c7d5-0005-4def-c78a-aaf3ac6e053a"
      },
      "source": [
        "! python benchmark_da-tacos.py --unpack --remove"
      ],
      "execution_count": null,
      "outputs": [
        {
          "output_type": "stream",
          "name": "stdout",
          "text": [
            "Downloading metadata of Da-TACOS.\n",
            "Permission denied: https://drive.google.com/uc?id=1y5g1whcd7bG6CiU0_cSqmpNR33hdKrby\n",
            "Maybe you need to change permission over 'Anyone with the link'?\n",
            "Metadata is downloaded.\n",
            "Unpacking the zip file ./data/da-tacos_metadata.zip into ./data\n",
            "Removing the zip file ./data/da-tacos_metadata.zip\n",
            "Downloading the cremaPCP features of the Da-TACOS benchmark subset.\n",
            "Downloading...\n",
            "From: https://drive.google.com/uc?id=13KJzwitploa2Teq4ndNcxcy2A2QOscpU\n",
            "To: /content/gdrive/My Drive/Thesis/Audio/move/data/da-tacos_benchmark_subset_crema.zip\n",
            "1.46GB [00:12, 113MB/s]\n",
            "cremaPCP features are downloaded.\n",
            "Unpacking the zip file ./data/da-tacos_benchmark_subset_crema.zip into ./data\n",
            "Removing the zip file ./data/da-tacos_benchmark_subset_crema.zip\n",
            "Creating benchmark_crema.pt file.\n",
            "Creating ytrue_benchmark.pt file.\n"
          ]
        }
      ]
    },
    {
      "cell_type": "code",
      "metadata": {
        "colab": {
          "base_uri": "https://localhost:8080/"
        },
        "id": "jq1Zg_rqgV-r",
        "outputId": "eb4c2daf-5df6-4b2f-bc80-dc419f154afd"
      },
      "source": [
        "! python move_main.py -rt test --dataset 1"
      ],
      "execution_count": null,
      "outputs": [
        {
          "output_type": "stream",
          "name": "stdout",
          "text": [
            "Evaluating model move on dataset data/benchmark_crema.pt.\n",
            "/usr/local/lib/python3.7/dist-packages/torch/nn/functional.py:718: UserWarning: Named tensors and all their associated APIs are an experimental feature and subject to change. Please do not use them for anything important until they are released as stable. (Triggered internally at  /pytorch/c10/core/TensorImpl.h:1156.)\n",
            "  return torch.max_pool2d(input, kernel_size, stride, padding, dilation, ceil_mode)\n",
            "tcmalloc: large alloc 1800003584 bytes == 0x562d2a866000 @  0x7f68cc1a7b6b 0x7f68cc1c7379 0x7f687074326e 0x7f68707449e2 0x7f68b3faeb49 0x7f68b3faf897 0x7f68b438bd89 0x7f68b4b350d4 0x7f68b433ddbd 0x7f68b4b24f54 0x7f68b4b2502e 0x7f68b4976f5f 0x7f68b6118927 0x7f68b6118f45 0x7f68b4e47cfc 0x7f68c6f1ade4 0x562af5088544 0x562af5088240 0x562af50fc627 0x562af50f69ee 0x562af5089bda 0x562af50f8737 0x562af50f69ee 0x562af5089bda 0x562af50f8737 0x562af50f69ee 0x562af50f66f3 0x562af51c04c2 0x562af51c083d 0x562af51c06e6 0x562af5198163\n",
            "mAP: 0.507\n",
            "MRR: 0.808\n",
            "MR: 40.129\n",
            "Top1: 9576.0\n",
            "Top10: 70671.0\n"
          ]
        }
      ]
    }
  ]
}